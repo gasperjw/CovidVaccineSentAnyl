{
 "cells": [
  {
   "cell_type": "code",
   "execution_count": 2,
   "metadata": {},
   "outputs": [],
   "source": [
    "import csv\n",
    "import time\n",
    "from getpass import getpass\n",
    "from time import sleep\n",
    "from selenium.webdriver.common.keys import Keys\n",
    "from selenium.common.exceptions import NoSuchElementException\n",
    "from selenium.webdriver import Chrome\n",
    "import pandas as pd \n",
    "import re"
   ]
  },
  {
   "cell_type": "code",
   "execution_count": 4,
   "metadata": {},
   "outputs": [],
   "source": [
    "df = pd.read_csv('covidvaccinetweet1.csv')\n",
    "tweets = list(df['tweet'])\n",
    "cleaned_tweets = []\n",
    "\n",
    "\n",
    "for tweet in tweets:\n",
    "    text = \"\"\n",
    "    text = tweet\n",
    "    text = re.sub(r'@[A-Za-z0-9]+', '', text)\n",
    "    text = re.sub(r'#', '', text)\n",
    "    text = re.sub(r'RT[\\s]+','', text)\n",
    "    text = re.sub(r'https?:\\/\\/\\S+', '', text)\n",
    "    cleaned_tweets.append(text)\n",
    "df['Cleaned Tweet'] = cleaned_tweets\n"
   ]
  },
  {
   "cell_type": "code",
   "execution_count": 5,
   "metadata": {},
   "outputs": [
    {
     "name": "stderr",
     "output_type": "stream",
     "text": [
      "/var/folders/jf/7mb6b2h94tng14xyg8t_p8p00000gn/T/ipykernel_20322/1354792896.py:3: DeprecationWarning: executable_path has been deprecated, please pass in a Service object\n",
      "  driver = webdriver.Chrome(executable_path='/Users/SameerAhmed/Desktop/chromedriver')\n"
     ]
    }
   ],
   "source": [
    "from selenium import webdriver\n",
    "\n",
    "driver = webdriver.Chrome(executable_path='/Users/SameerAhmed/Desktop/chromedriver')\n",
    "driver.get('https://socialanalyticsplus.net/crystalfeel/')"
   ]
  },
  {
   "cell_type": "code",
   "execution_count": 10,
   "metadata": {},
   "outputs": [
    {
     "name": "stderr",
     "output_type": "stream",
     "text": [
      "/var/folders/jf/7mb6b2h94tng14xyg8t_p8p00000gn/T/ipykernel_20322/2658862822.py:2: DeprecationWarning: find_element_by_* commands are deprecated. Please use find_element() instead\n",
      "  tweetanlz = driver.find_element_by_tag_name('textarea')\n"
     ]
    }
   ],
   "source": [
    "tweet = df['Cleaned Tweet'][1]\n",
    "tweetanlz = driver.find_element_by_tag_name('textarea')\n",
    "tweetanlz.send_keys(tweet)\n"
   ]
  },
  {
   "cell_type": "code",
   "execution_count": 11,
   "metadata": {},
   "outputs": [
    {
     "name": "stderr",
     "output_type": "stream",
     "text": [
      "/var/folders/jf/7mb6b2h94tng14xyg8t_p8p00000gn/T/ipykernel_20322/396759366.py:1: DeprecationWarning: find_elements_by_* commands are deprecated. Please use find_elements() instead\n",
      "  submit = driver.find_elements_by_xpath(\"//tbody/tr/td/a\")\n"
     ]
    }
   ],
   "source": [
    "submit = driver.find_elements_by_xpath(\"//tbody/tr/td/a\")\n",
    "\n",
    "for x in submit:\n",
    "    if x.text == 'Get Result':\n",
    "        x.click()"
   ]
  },
  {
   "cell_type": "code",
   "execution_count": 9,
   "metadata": {},
   "outputs": [
    {
     "name": "stderr",
     "output_type": "stream",
     "text": [
      "/var/folders/jf/7mb6b2h94tng14xyg8t_p8p00000gn/T/ipykernel_20322/3525882382.py:1: DeprecationWarning: find_element_by_* commands are deprecated. Please use find_element() instead\n",
      "  tweetanlz = driver.find_element_by_tag_name('textarea')\n",
      "/var/folders/jf/7mb6b2h94tng14xyg8t_p8p00000gn/T/ipykernel_20322/3525882382.py:4: DeprecationWarning: find_element_by_* commands are deprecated. Please use find_element() instead\n",
      "  tweetanlz = driver.find_element_by_tag_name('textarea')\n"
     ]
    }
   ],
   "source": [
    "tweetanlz = driver.find_element_by_tag_name('textarea')\n",
    "tweetanlz.clear()\n",
    "tweet = df['Cleaned Tweet'][2]\n",
    "tweetanlz = driver.find_element_by_tag_name('textarea')\n",
    "tweetanlz.send_keys(tweet)"
   ]
  },
  {
   "cell_type": "code",
   "execution_count": null,
   "metadata": {},
   "outputs": [],
   "source": []
  },
  {
   "cell_type": "markdown",
   "metadata": {},
   "source": [
    "## Creating a Bot"
   ]
  },
  {
   "cell_type": "code",
   "execution_count": null,
   "metadata": {},
   "outputs": [],
   "source": [
    "df = pd.read_csv('test1.csv')\n",
    "\n",
    "def gettinginformatio"
   ]
  }
 ],
 "metadata": {
  "interpreter": {
   "hash": "482d18f85424a5cb987f671a4173c8d0bf6e43b70c7397453b91d8161f3c92e1"
  },
  "kernelspec": {
   "display_name": "Python 3.9.5 64-bit ('base': conda)",
   "language": "python",
   "name": "python3"
  },
  "language_info": {
   "codemirror_mode": {
    "name": "ipython",
    "version": 3
   },
   "file_extension": ".py",
   "mimetype": "text/x-python",
   "name": "python",
   "nbconvert_exporter": "python",
   "pygments_lexer": "ipython3",
   "version": "3.9.5"
  },
  "orig_nbformat": 4
 },
 "nbformat": 4,
 "nbformat_minor": 2
}
